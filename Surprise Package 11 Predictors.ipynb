{
 "cells": [
  {
   "cell_type": "code",
   "execution_count": 2,
   "metadata": {
    "ExecuteTime": {
     "end_time": "2019-05-29T14:55:59.227029Z",
     "start_time": "2019-05-29T14:55:58.443458Z"
    }
   },
   "outputs": [],
   "source": [
    "from surprise import BaselineOnly, NormalPredictor, KNNBasic, KNNWithMeans, KNNWithZScore, KNNBaseline, \\\n",
    "                                   SVD, SVDpp, NMF, SlopeOne, CoClustering\n",
    "from surprise import Dataset\n",
    "from surprise import Reader\n",
    "from surprise.model_selection import cross_validate\n",
    "import os\n",
    "import pandas as pd"
   ]
  },
  {
   "cell_type": "code",
   "execution_count": 3,
   "metadata": {
    "ExecuteTime": {
     "end_time": "2019-05-29T14:56:00.218056Z",
     "start_time": "2019-05-29T14:56:00.210051Z"
    }
   },
   "outputs": [],
   "source": [
    "def MAPE(y_true, y_pred): \n",
    "    \n",
    "    y_true, y_pred = np.array(y_true), np.array(y_pred)\n",
    "    \n",
    "    return np.mean(np.abs((y_true - y_pred) / y_true)) * 100"
   ]
  },
  {
   "cell_type": "code",
   "execution_count": 4,
   "metadata": {
    "ExecuteTime": {
     "end_time": "2019-05-29T14:56:01.151488Z",
     "start_time": "2019-05-29T14:56:01.145484Z"
    }
   },
   "outputs": [],
   "source": [
    "def models_test_MAPE(model):\n",
    "    algo = model()\n",
    "    algo.fit(trainset)\n",
    "    predictions = algo.test(testset)\n",
    "    return MAPE(pd.DataFrame(predictions).r_ui, pd.DataFrame(predictions).est)"
   ]
  },
  {
   "cell_type": "code",
   "execution_count": 5,
   "metadata": {
    "ExecuteTime": {
     "end_time": "2019-05-29T14:56:04.927354Z",
     "start_time": "2019-05-29T14:56:02.269208Z"
    }
   },
   "outputs": [],
   "source": [
    "# path to dataset file\n",
    "file_path = os.path.expanduser('D://Data Science/Down/Rec_Em/Hotel_Ratings.csv')\n",
    "\n",
    "# As we're loading a custom dataset, we need to define a reader. In the\n",
    "# movielens-100k dataset, each line has the following format:\n",
    "# 'user item rating timestamp', separated by '\\t' characters.\n",
    "reader = Reader(line_format='user item rating', sep=',', skip_lines=1)\n",
    "\n",
    "data = Dataset.load_from_file(file_path, reader=reader)\n",
    "\n",
    "# We can now use this dataset as we please, e.g. calling cross_validate\n",
    "\n",
    "from surprise.model_selection import train_test_split\n",
    "\n",
    "trainset, testset = train_test_split(data, test_size=.25,random_state=123)"
   ]
  },
  {
   "cell_type": "code",
   "execution_count": 9,
   "metadata": {
    "ExecuteTime": {
     "end_time": "2019-05-29T15:24:51.921440Z",
     "start_time": "2019-05-29T15:00:32.739406Z"
    },
    "deletable": false,
    "editable": false,
    "run_control": {
     "frozen": true
    }
   },
   "outputs": [
    {
     "name": "stdout",
     "output_type": "stream",
     "text": [
      "Estimating biases using als...\n",
      "\n",
      " <surprise.prediction_algorithms.baseline_only.BaselineOnly object at 0x0000004ED63B2630> :\n",
      "The MAPE of the Test= 28.47860721499972 \n",
      "\n",
      "\n",
      "\n",
      " <surprise.prediction_algorithms.random_pred.NormalPredictor object at 0x0000004ED50C8E80> :\n",
      "The MAPE of the Test= 47.15346150902804 \n",
      "\n",
      "\n",
      "Computing the msd similarity matrix...\n",
      "Done computing similarity matrix.\n",
      "\n",
      " <surprise.prediction_algorithms.knns.KNNBasic object at 0x0000004ED50C8E80> :\n",
      "The MAPE of the Test= 28.271604897422037 \n",
      "\n",
      "\n",
      "Computing the msd similarity matrix...\n",
      "Done computing similarity matrix.\n",
      "\n",
      " <surprise.prediction_algorithms.knns.KNNWithMeans object at 0x0000004ED50C8E80> :\n",
      "The MAPE of the Test= 26.52561222827089 \n",
      "\n",
      "\n",
      "Computing the msd similarity matrix...\n",
      "Done computing similarity matrix.\n",
      "\n",
      " <surprise.prediction_algorithms.knns.KNNWithZScore object at 0x0000004ED50C8E80> :\n",
      "The MAPE of the Test= 26.090639587148967 \n",
      "\n",
      "\n",
      "Estimating biases using als...\n",
      "Computing the msd similarity matrix...\n",
      "Done computing similarity matrix.\n",
      "\n",
      " <surprise.prediction_algorithms.knns.KNNBaseline object at 0x0000004ED50C8E80> :\n",
      "The MAPE of the Test= 26.904356191462426 \n",
      "\n",
      "\n",
      "\n",
      " <surprise.prediction_algorithms.matrix_factorization.SVD object at 0x0000004ED6389630> :\n",
      "The MAPE of the Test= 26.41998253491058 \n",
      "\n",
      "\n",
      "\n",
      " <surprise.prediction_algorithms.matrix_factorization.SVDpp object at 0x0000004ED6389630> :\n",
      "The MAPE of the Test= 25.821661273620133 \n",
      "\n",
      "\n",
      "\n",
      " <surprise.prediction_algorithms.matrix_factorization.NMF object at 0x0000004ED6389630> :\n",
      "The MAPE of the Test= 27.038315558254872 \n",
      "\n",
      "\n",
      "\n",
      " <surprise.prediction_algorithms.slope_one.SlopeOne object at 0x0000004ED6389630> :\n",
      "The MAPE of the Test= 26.7920946130133 \n",
      "\n",
      "\n",
      "\n",
      " <surprise.prediction_algorithms.co_clustering.CoClustering object at 0x0000004ED6389630> :\n",
      "The MAPE of the Test= 26.690333786668486 \n",
      "\n",
      "\n"
     ]
    }
   ],
   "source": [
    "models = [BaselineOnly, NormalPredictor, KNNBasic, KNNWithMeans, KNNWithZScore,\\\n",
    "          KNNBaseline, SVD, SVDpp, NMF, SlopeOne, CoClustering]\n",
    "\n",
    "for model in models:\n",
    "    print(\"\\n\",model(),\":\\nThe MAPE of the Test=\",models_test_MAPE(model),\"\\n\\n\")"
   ]
  },
  {
   "cell_type": "code",
   "execution_count": null,
   "metadata": {},
   "outputs": [],
   "source": []
  },
  {
   "cell_type": "code",
   "execution_count": null,
   "metadata": {},
   "outputs": [],
   "source": []
  },
  {
   "cell_type": "code",
   "execution_count": null,
   "metadata": {},
   "outputs": [],
   "source": []
  }
 ],
 "metadata": {
  "hide_input": false,
  "kernelspec": {
   "display_name": "Python 3",
   "language": "python",
   "name": "python3"
  },
  "language_info": {
   "codemirror_mode": {
    "name": "ipython",
    "version": 3
   },
   "file_extension": ".py",
   "mimetype": "text/x-python",
   "name": "python",
   "nbconvert_exporter": "python",
   "pygments_lexer": "ipython3",
   "version": "3.6.5"
  },
  "varInspector": {
   "cols": {
    "lenName": 16,
    "lenType": 16,
    "lenVar": 40
   },
   "kernels_config": {
    "python": {
     "delete_cmd_postfix": "",
     "delete_cmd_prefix": "del ",
     "library": "var_list.py",
     "varRefreshCmd": "print(var_dic_list())"
    },
    "r": {
     "delete_cmd_postfix": ") ",
     "delete_cmd_prefix": "rm(",
     "library": "var_list.r",
     "varRefreshCmd": "cat(var_dic_list()) "
    }
   },
   "types_to_exclude": [
    "module",
    "function",
    "builtin_function_or_method",
    "instance",
    "_Feature"
   ],
   "window_display": false
  }
 },
 "nbformat": 4,
 "nbformat_minor": 2
}
