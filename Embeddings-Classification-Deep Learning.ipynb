{
 "cells": [
  {
   "cell_type": "code",
   "execution_count": 1,
   "metadata": {
    "ExecuteTime": {
     "end_time": "2019-05-30T04:59:29.093016Z",
     "start_time": "2019-05-30T04:59:27.981125Z"
    }
   },
   "outputs": [],
   "source": [
    "import pandas as pd\n",
    "import numpy as np"
   ]
  },
  {
   "cell_type": "code",
   "execution_count": 2,
   "metadata": {
    "ExecuteTime": {
     "end_time": "2019-05-30T04:59:32.743737Z",
     "start_time": "2019-05-30T04:59:29.099021Z"
    }
   },
   "outputs": [
    {
     "name": "stderr",
     "output_type": "stream",
     "text": [
      "Using TensorFlow backend.\n"
     ]
    }
   ],
   "source": [
    "from keras.models import Sequential, Model\n",
    "from keras.layers import Dense, Activation, Embedding, concatenate, Flatten, Input,\\\n",
    "                         Dropout, BatchNormalization"
   ]
  },
  {
   "cell_type": "code",
   "execution_count": 3,
   "metadata": {
    "ExecuteTime": {
     "end_time": "2019-05-30T04:59:33.241391Z",
     "start_time": "2019-05-30T04:59:32.747669Z"
    }
   },
   "outputs": [],
   "source": [
    "from sklearn.model_selection import train_test_split"
   ]
  },
  {
   "cell_type": "code",
   "execution_count": 4,
   "metadata": {
    "ExecuteTime": {
     "end_time": "2019-05-30T04:59:33.338941Z",
     "start_time": "2019-05-30T04:59:33.329933Z"
    }
   },
   "outputs": [],
   "source": [
    "def MAPE(y_true, y_pred): \n",
    "    \n",
    "    y_true, y_pred = np.array(y_true), np.array(y_pred)\n",
    "    \n",
    "    return np.mean(np.abs((y_true - y_pred) / y_true)) * 100"
   ]
  },
  {
   "cell_type": "code",
   "execution_count": 5,
   "metadata": {
    "ExecuteTime": {
     "end_time": "2019-05-30T04:59:33.808902Z",
     "start_time": "2019-05-30T04:59:33.370962Z"
    }
   },
   "outputs": [
    {
     "data": {
      "text/html": [
       "<div>\n",
       "<style scoped>\n",
       "    .dataframe tbody tr th:only-of-type {\n",
       "        vertical-align: middle;\n",
       "    }\n",
       "\n",
       "    .dataframe tbody tr th {\n",
       "        vertical-align: top;\n",
       "    }\n",
       "\n",
       "    .dataframe thead th {\n",
       "        text-align: right;\n",
       "    }\n",
       "</style>\n",
       "<table border=\"1\" class=\"dataframe\">\n",
       "  <thead>\n",
       "    <tr style=\"text-align: right;\">\n",
       "      <th></th>\n",
       "      <th>userid</th>\n",
       "      <th>Hotelid</th>\n",
       "      <th>OverallRating</th>\n",
       "    </tr>\n",
       "  </thead>\n",
       "  <tbody>\n",
       "    <tr>\n",
       "      <th>0</th>\n",
       "      <td>user_78131</td>\n",
       "      <td>hotel_558</td>\n",
       "      <td>3</td>\n",
       "    </tr>\n",
       "    <tr>\n",
       "      <th>1</th>\n",
       "      <td>user_78131</td>\n",
       "      <td>hotel_603</td>\n",
       "      <td>2</td>\n",
       "    </tr>\n",
       "    <tr>\n",
       "      <th>2</th>\n",
       "      <td>user_78131</td>\n",
       "      <td>hotel_610</td>\n",
       "      <td>3</td>\n",
       "    </tr>\n",
       "    <tr>\n",
       "      <th>3</th>\n",
       "      <td>user_78131</td>\n",
       "      <td>hotel_574</td>\n",
       "      <td>3</td>\n",
       "    </tr>\n",
       "    <tr>\n",
       "      <th>4</th>\n",
       "      <td>user_78131</td>\n",
       "      <td>hotel_570</td>\n",
       "      <td>3</td>\n",
       "    </tr>\n",
       "  </tbody>\n",
       "</table>\n",
       "</div>"
      ],
      "text/plain": [
       "       userid    Hotelid  OverallRating\n",
       "0  user_78131  hotel_558              3\n",
       "1  user_78131  hotel_603              2\n",
       "2  user_78131  hotel_610              3\n",
       "3  user_78131  hotel_574              3\n",
       "4  user_78131  hotel_570              3"
      ]
     },
     "execution_count": 5,
     "metadata": {},
     "output_type": "execute_result"
    }
   ],
   "source": [
    "ratings = pd.read_csv('Hotel_Ratings.csv')\n",
    "ratings.head()"
   ]
  },
  {
   "cell_type": "code",
   "execution_count": 6,
   "metadata": {
    "ExecuteTime": {
     "end_time": "2019-05-30T04:59:33.931989Z",
     "start_time": "2019-05-30T04:59:33.888958Z"
    }
   },
   "outputs": [
    {
     "data": {
      "text/plain": [
       "5010"
      ]
     },
     "execution_count": 6,
     "metadata": {},
     "output_type": "execute_result"
    }
   ],
   "source": [
    "ratings.userid.nunique()"
   ]
  },
  {
   "cell_type": "code",
   "execution_count": 7,
   "metadata": {
    "ExecuteTime": {
     "end_time": "2019-05-30T04:59:34.086401Z",
     "start_time": "2019-05-30T04:59:34.009044Z"
    }
   },
   "outputs": [
    {
     "data": {
      "text/plain": [
       "130"
      ]
     },
     "execution_count": 7,
     "metadata": {},
     "output_type": "execute_result"
    }
   ],
   "source": [
    "ratings.Hotelid.nunique()"
   ]
  },
  {
   "cell_type": "code",
   "execution_count": 8,
   "metadata": {
    "ExecuteTime": {
     "end_time": "2019-05-30T04:59:34.183459Z",
     "start_time": "2019-05-30T04:59:34.169442Z"
    }
   },
   "outputs": [
    {
     "data": {
      "text/plain": [
       "5"
      ]
     },
     "execution_count": 8,
     "metadata": {},
     "output_type": "execute_result"
    }
   ],
   "source": [
    "ratings.OverallRating.nunique()"
   ]
  },
  {
   "cell_type": "code",
   "execution_count": 9,
   "metadata": {
    "ExecuteTime": {
     "end_time": "2019-05-30T04:59:35.494934Z",
     "start_time": "2019-05-30T04:59:35.293790Z"
    }
   },
   "outputs": [
    {
     "name": "stderr",
     "output_type": "stream",
     "text": [
      "C:\\Users\\BabjiManohar\\Miniconda3\\lib\\site-packages\\sklearn\\preprocessing\\label.py:235: DataConversionWarning: A column-vector y was passed when a 1d array was expected. Please change the shape of y to (n_samples, ), for example using ravel().\n",
      "  y = column_or_1d(y, warn=True)\n"
     ]
    }
   ],
   "source": [
    "from sklearn.preprocessing import LabelEncoder\n",
    "enc_u = LabelEncoder()\n",
    "enc_h = LabelEncoder()\n",
    "\n",
    "user = enc_u.fit_transform(ratings.userid.values.reshape(-1,1))\n",
    "Hotel = enc_h.fit_transform(ratings.Hotelid.values.reshape(-1,1))"
   ]
  },
  {
   "cell_type": "code",
   "execution_count": 11,
   "metadata": {
    "ExecuteTime": {
     "end_time": "2019-05-30T04:59:44.976909Z",
     "start_time": "2019-05-30T04:59:44.972906Z"
    }
   },
   "outputs": [],
   "source": [
    "# cat_tar_attr = pd.get_dummies(ratings.OverallRating).values\n",
    "# cat_tar_attr.shape"
   ]
  },
  {
   "cell_type": "code",
   "execution_count": 12,
   "metadata": {
    "ExecuteTime": {
     "end_time": "2019-05-30T05:00:21.413341Z",
     "start_time": "2019-05-30T05:00:21.346296Z"
    }
   },
   "outputs": [],
   "source": [
    "User_train, User_test, Hotel_train, Hotel_test, Y_train, Y_test = \\\n",
    "train_test_split(user,  Hotel, ratings.OverallRating, test_size=0.2, random_state=123)"
   ]
  },
  {
   "cell_type": "code",
   "execution_count": 71,
   "metadata": {
    "ExecuteTime": {
     "end_time": "2019-05-30T09:43:35.493680Z",
     "start_time": "2019-05-30T09:43:35.157914Z"
    }
   },
   "outputs": [],
   "source": [
    "user_input = Input(shape=(1, ), name=\"User_Layer\")\n",
    "user_embed = Embedding(input_dim = ratings.userid.nunique(), output_dim = 80, name=\"User_Embedding_Layer\")(user_input)\n",
    "user_embed = Dropout(0.9)(user_embed)\n",
    "\n",
    "hotel_input = Input(shape=(1, ), name=\"Hotel_Layer\")\n",
    "hotel_embed = Embedding(input_dim= ratings.Hotelid.nunique(), output_dim = 30, name=\"Hotel_Embedding_Layer\")(hotel_input)\n",
    "hotel_embed = Dropout(0.9)(hotel_embed)\n",
    "\n",
    "merge_cat_emb = concatenate([user_embed, hotel_embed])\n",
    "\n",
    "merge_cat_emb_flat = Flatten()(merge_cat_emb)\n",
    "\n",
    "merged_layer_2 = Dense(10, activation= 'relu', name=\"Dense_Merged_Layer_2\")(merge_cat_emb_flat)\n",
    "merged_layer_2 = Dropout(0.7)(merged_layer_2)\n",
    "output_layer = Dense(5, activation='softmax', name=\"Output_Layer\" )(merged_layer_2)\n",
    "output_layer = Dropout(0.9)(output_layer)\n",
    "output_layer_final = Dense(1, activation='linear', name=\"Output_Layer_Final\" )(output_layer)\n",
    "\n",
    "model = Model(inputs=[user_input, hotel_input], outputs=output_layer_final)"
   ]
  },
  {
   "cell_type": "code",
   "execution_count": 72,
   "metadata": {
    "ExecuteTime": {
     "end_time": "2019-05-30T09:43:37.729396Z",
     "start_time": "2019-05-30T09:43:37.721388Z"
    },
    "scrolled": false
   },
   "outputs": [
    {
     "name": "stdout",
     "output_type": "stream",
     "text": [
      "__________________________________________________________________________________________________\n",
      "Layer (type)                    Output Shape         Param #     Connected to                     \n",
      "==================================================================================================\n",
      "User_Layer (InputLayer)         (None, 1)            0                                            \n",
      "__________________________________________________________________________________________________\n",
      "Hotel_Layer (InputLayer)        (None, 1)            0                                            \n",
      "__________________________________________________________________________________________________\n",
      "User_Embedding_Layer (Embedding (None, 1, 80)        400800      User_Layer[0][0]                 \n",
      "__________________________________________________________________________________________________\n",
      "Hotel_Embedding_Layer (Embeddin (None, 1, 30)        3900        Hotel_Layer[0][0]                \n",
      "__________________________________________________________________________________________________\n",
      "concatenate_5 (Concatenate)     (None, 1, 110)       0           User_Embedding_Layer[0][0]       \n",
      "                                                                 Hotel_Embedding_Layer[0][0]      \n",
      "__________________________________________________________________________________________________\n",
      "flatten_5 (Flatten)             (None, 110)          0           concatenate_5[0][0]              \n",
      "__________________________________________________________________________________________________\n",
      "Dense_Merged_Layer_2 (Dense)    (None, 10)           1110        flatten_5[0][0]                  \n",
      "__________________________________________________________________________________________________\n",
      "dropout_2 (Dropout)             (None, 10)           0           Dense_Merged_Layer_2[0][0]       \n",
      "__________________________________________________________________________________________________\n",
      "Output_Layer (Dense)            (None, 5)            55          dropout_2[0][0]                  \n",
      "__________________________________________________________________________________________________\n",
      "dropout_3 (Dropout)             (None, 5)            0           Output_Layer[0][0]               \n",
      "__________________________________________________________________________________________________\n",
      "Output_Layer_Final (Dense)      (None, 1)            6           dropout_3[0][0]                  \n",
      "==================================================================================================\n",
      "Total params: 405,871\n",
      "Trainable params: 405,871\n",
      "Non-trainable params: 0\n",
      "__________________________________________________________________________________________________\n"
     ]
    }
   ],
   "source": [
    "model.summary()"
   ]
  },
  {
   "cell_type": "code",
   "execution_count": 73,
   "metadata": {
    "ExecuteTime": {
     "end_time": "2019-05-30T09:43:39.807866Z",
     "start_time": "2019-05-30T09:43:39.502686Z"
    }
   },
   "outputs": [],
   "source": [
    "from keras.utils import plot_model\n",
    "plot_model(model, to_file='model.png')"
   ]
  },
  {
   "cell_type": "code",
   "execution_count": 74,
   "metadata": {
    "ExecuteTime": {
     "end_time": "2019-05-30T09:43:40.262639Z",
     "start_time": "2019-05-30T09:43:40.250625Z"
    },
    "scrolled": false
   },
   "outputs": [
    {
     "data": {
      "image/png": "[encoded data removed]",
      "text/plain": [
       "<IPython.core.display.Image object>"
      ]
     },
     "execution_count": 74,
     "metadata": {},
     "output_type": "execute_result"
    }
   ],
   "source": [
    "from IPython.display import Image\n",
    "Image(\"model.png\")"
   ]
  },
  {
   "cell_type": "code",
   "execution_count": 75,
   "metadata": {
    "ExecuteTime": {
     "end_time": "2019-05-30T09:43:40.971339Z",
     "start_time": "2019-05-30T09:43:40.861216Z"
    }
   },
   "outputs": [],
   "source": [
    "model.compile(loss='mean_squared_error', optimizer='adagrad', metrics=['mae'])"
   ]
  },
  {
   "cell_type": "code",
   "execution_count": 77,
   "metadata": {
    "ExecuteTime": {
     "end_time": "2019-05-30T09:54:30.723312Z",
     "start_time": "2019-05-30T09:44:18.252307Z"
    }
   },
   "outputs": [
    {
     "data": {
      "image/png": "[encoded data removed]",
      "text/plain": [
       "<Figure size 864x576 with 2 Axes>"
      ]
     },
     "metadata": {
      "needs_background": "light"
     },
     "output_type": "display_data"
    },
    {
     "name": "stdout",
     "output_type": "stream",
     "text": [
      "Mean squared error (cost function):\n",
      "training   (min:    2.459, max:    7.624, cur:    2.462)\n",
      "validation (min:    1.963, max:    6.061, cur:    1.963)\n",
      "\n",
      "Mean absolute error:\n",
      "training   (min:    1.296, max:    2.470, cur:    1.296)\n",
      "validation (min:    1.198, max:    2.226, cur:    1.198)\n"
     ]
    },
    {
     "data": {
      "text/plain": [
       "<keras.callbacks.History at 0xca36870e48>"
      ]
     },
     "execution_count": 77,
     "metadata": {},
     "output_type": "execute_result"
    }
   ],
   "source": [
    "from livelossplot.keras import PlotLossesCallback\n",
    "\n",
    "model.fit([User_train, Hotel_train], y = Y_train, epochs=400, validation_split=0.3,\n",
    "          batch_size= 5000, \n",
    "          shuffle=True,\n",
    "          callbacks=[PlotLossesCallback()],\n",
    "          verbose=2)"
   ]
  },
  {
   "cell_type": "code",
   "execution_count": null,
   "metadata": {
    "ExecuteTime": {
     "start_time": "2019-05-30T06:45:53.396Z"
    }
   },
   "outputs": [],
   "source": [
    "y_pred = model.predict([User_test, Hotel_test])\n",
    "\n",
    "MAPE(Y_test[:20000], y_pred[:20000])"
   ]
  },
  {
   "cell_type": "code",
   "execution_count": 47,
   "metadata": {
    "ExecuteTime": {
     "end_time": "2019-05-30T06:54:05.363144Z",
     "start_time": "2019-05-30T06:53:49.434504Z"
    },
    "deletable": false,
    "editable": false,
    "run_control": {
     "frozen": true
    }
   },
   "outputs": [
    {
     "data": {
      "text/plain": [
       "41.4513293261196"
      ]
     },
     "execution_count": 47,
     "metadata": {},
     "output_type": "execute_result"
    }
   ],
   "source": [
    "14,15"
   ]
  },
  {
   "cell_type": "code",
   "execution_count": 44,
   "metadata": {
    "ExecuteTime": {
     "end_time": "2019-05-30T06:42:32.052953Z",
     "start_time": "2019-05-30T06:42:17.422569Z"
    },
    "deletable": false,
    "editable": false,
    "run_control": {
     "frozen": true
    }
   },
   "outputs": [
    {
     "data": {
      "text/plain": [
       "38.59028507914968"
      ]
     },
     "execution_count": 44,
     "metadata": {},
     "output_type": "execute_result"
    }
   ],
   "source": [
    "12,13"
   ]
  },
  {
   "cell_type": "code",
   "execution_count": 40,
   "metadata": {
    "ExecuteTime": {
     "end_time": "2019-05-30T06:31:53.614665Z",
     "start_time": "2019-05-30T06:31:35.889787Z"
    },
    "deletable": false,
    "editable": false,
    "run_control": {
     "frozen": true
    }
   },
   "outputs": [
    {
     "data": {
      "text/plain": [
       "37.187180270205204"
      ]
     },
     "execution_count": 40,
     "metadata": {},
     "output_type": "execute_result"
    }
   ],
   "source": [
    "10,11"
   ]
  },
  {
   "cell_type": "code",
   "execution_count": 39,
   "metadata": {
    "ExecuteTime": {
     "end_time": "2019-05-30T05:40:59.820087Z",
     "start_time": "2019-05-30T05:40:45.943585Z"
    },
    "deletable": false,
    "editable": false,
    "run_control": {
     "frozen": true
    }
   },
   "outputs": [
    {
     "data": {
      "text/plain": [
       "37.187180270205204"
      ]
     },
     "execution_count": 39,
     "metadata": {},
     "output_type": "execute_result"
    }
   ],
   "source": [
    "8,9"
   ]
  },
  {
   "cell_type": "code",
   "execution_count": 37,
   "metadata": {
    "ExecuteTime": {
     "end_time": "2019-05-30T05:34:14.769295Z",
     "start_time": "2019-05-30T05:34:00.118356Z"
    },
    "deletable": false,
    "editable": false,
    "run_control": {
     "frozen": true
    }
   },
   "outputs": [
    {
     "data": {
      "text/plain": [
       "34.98331176703337"
      ]
     },
     "execution_count": 37,
     "metadata": {},
     "output_type": "execute_result"
    }
   ],
   "source": [
    "7"
   ]
  },
  {
   "cell_type": "code",
   "execution_count": 35,
   "metadata": {
    "ExecuteTime": {
     "end_time": "2019-05-30T05:30:06.446240Z",
     "start_time": "2019-05-30T05:29:52.392069Z"
    },
    "deletable": false,
    "editable": false,
    "run_control": {
     "frozen": true
    }
   },
   "outputs": [
    {
     "data": {
      "text/plain": [
       "34.91695699034648"
      ]
     },
     "execution_count": 35,
     "metadata": {},
     "output_type": "execute_result"
    }
   ],
   "source": [
    "6"
   ]
  },
  {
   "cell_type": "code",
   "execution_count": 33,
   "metadata": {
    "ExecuteTime": {
     "end_time": "2019-05-30T05:18:57.243496Z",
     "start_time": "2019-05-30T05:18:42.669226Z"
    },
    "deletable": false,
    "editable": false,
    "run_control": {
     "frozen": true
    }
   },
   "outputs": [
    {
     "data": {
      "text/plain": [
       "35.56059423176657"
      ]
     },
     "execution_count": 33,
     "metadata": {},
     "output_type": "execute_result"
    }
   ],
   "source": [
    "5"
   ]
  },
  {
   "cell_type": "code",
   "execution_count": 31,
   "metadata": {
    "ExecuteTime": {
     "end_time": "2019-05-30T05:15:39.304704Z",
     "start_time": "2019-05-30T05:15:25.249761Z"
    },
    "deletable": false,
    "editable": false,
    "run_control": {
     "frozen": true
    }
   },
   "outputs": [
    {
     "data": {
      "text/plain": [
       "36.422500289738835"
      ]
     },
     "execution_count": 31,
     "metadata": {},
     "output_type": "execute_result"
    }
   ],
   "source": [
    "4"
   ]
  },
  {
   "cell_type": "code",
   "execution_count": 29,
   "metadata": {
    "ExecuteTime": {
     "end_time": "2019-05-30T05:12:21.421432Z",
     "start_time": "2019-05-30T05:12:08.182540Z"
    },
    "deletable": false,
    "editable": false,
    "run_control": {
     "frozen": true
    }
   },
   "outputs": [
    {
     "data": {
      "text/plain": [
       "37.64042448306849"
      ]
     },
     "execution_count": 29,
     "metadata": {},
     "output_type": "execute_result"
    }
   ],
   "source": [
    "3"
   ]
  },
  {
   "cell_type": "code",
   "execution_count": 26,
   "metadata": {
    "ExecuteTime": {
     "end_time": "2019-05-30T05:08:50.126001Z",
     "start_time": "2019-05-30T05:08:38.088278Z"
    },
    "deletable": false,
    "editable": false,
    "run_control": {
     "frozen": true
    }
   },
   "outputs": [
    {
     "data": {
      "text/plain": [
       "39.40382028667753"
      ]
     },
     "execution_count": 26,
     "metadata": {},
     "output_type": "execute_result"
    }
   ],
   "source": [
    "2"
   ]
  },
  {
   "cell_type": "code",
   "execution_count": 23,
   "metadata": {
    "ExecuteTime": {
     "end_time": "2019-05-30T05:05:13.402438Z",
     "start_time": "2019-05-30T05:05:00.270231Z"
    },
    "deletable": false,
    "editable": false,
    "run_control": {
     "frozen": true
    }
   },
   "outputs": [
    {
     "data": {
      "text/plain": [
       "45.308221590997206"
      ]
     },
     "execution_count": 23,
     "metadata": {},
     "output_type": "execute_result"
    }
   ],
   "source": [
    "1"
   ]
  },
  {
   "cell_type": "code",
   "execution_count": null,
   "metadata": {},
   "outputs": [],
   "source": []
  },
  {
   "cell_type": "code",
   "execution_count": null,
   "metadata": {},
   "outputs": [],
   "source": []
  },
  {
   "cell_type": "code",
   "execution_count": 65,
   "metadata": {
    "ExecuteTime": {
     "end_time": "2019-05-29T14:08:05.177078Z",
     "start_time": "2019-05-29T14:08:02.219841Z"
    }
   },
   "outputs": [
    {
     "name": "stdout",
     "output_type": "stream",
     "text": [
      "54387/54387 [==============================] - 3s 54us/step\n"
     ]
    },
    {
     "data": {
      "text/plain": [
       "[0.7639867179758101, 0.7639867179758101]"
      ]
     },
     "execution_count": 65,
     "metadata": {},
     "output_type": "execute_result"
    }
   ],
   "source": [
    "model.evaluate([User_test, Hotel_test], Y_test)"
   ]
  },
  {
   "cell_type": "code",
   "execution_count": 35,
   "metadata": {
    "ExecuteTime": {
     "end_time": "2019-05-25T06:26:36.103366Z",
     "start_time": "2019-05-25T06:26:36.099361Z"
    }
   },
   "outputs": [],
   "source": [
    "# model.get_weights()"
   ]
  },
  {
   "cell_type": "code",
   "execution_count": 24,
   "metadata": {
    "ExecuteTime": {
     "end_time": "2019-05-25T04:58:14.143218Z",
     "start_time": "2019-05-25T04:58:14.111180Z"
    }
   },
   "outputs": [
    {
     "data": {
      "text/plain": [
       "(5010, 20)"
      ]
     },
     "execution_count": 24,
     "metadata": {},
     "output_type": "execute_result"
    }
   ],
   "source": [
    "model.get_weights()[0].shape ## Weights of the user embeddings no bias"
   ]
  },
  {
   "cell_type": "code",
   "execution_count": 25,
   "metadata": {
    "ExecuteTime": {
     "end_time": "2019-05-25T04:58:14.947206Z",
     "start_time": "2019-05-25T04:58:14.939202Z"
    }
   },
   "outputs": [
    {
     "data": {
      "text/plain": [
       "(130, 20)"
      ]
     },
     "execution_count": 25,
     "metadata": {},
     "output_type": "execute_result"
    }
   ],
   "source": [
    "model.get_weights()[1].shape ## Weights of the movie embeddings no bias"
   ]
  },
  {
   "cell_type": "code",
   "execution_count": 30,
   "metadata": {
    "ExecuteTime": {
     "end_time": "2019-05-25T04:59:29.925522Z",
     "start_time": "2019-05-25T04:59:29.916519Z"
    },
    "scrolled": true
   },
   "outputs": [
    {
     "data": {
      "text/plain": [
       "(40, 10)"
      ]
     },
     "execution_count": 30,
     "metadata": {},
     "output_type": "execute_result"
    }
   ],
   "source": [
    "model.get_weights()[2].shape ## Weights of the Dense_Merged_Layer layer"
   ]
  },
  {
   "cell_type": "code",
   "execution_count": 31,
   "metadata": {
    "ExecuteTime": {
     "end_time": "2019-05-25T04:59:36.327380Z",
     "start_time": "2019-05-25T04:59:36.318373Z"
    }
   },
   "outputs": [
    {
     "data": {
      "text/plain": [
       "(10,)"
      ]
     },
     "execution_count": 31,
     "metadata": {},
     "output_type": "execute_result"
    }
   ],
   "source": [
    "model.get_weights()[3].shape ## Bias of the Dense_Merged_Layer layer"
   ]
  },
  {
   "cell_type": "code",
   "execution_count": 32,
   "metadata": {
    "ExecuteTime": {
     "end_time": "2019-05-25T04:59:42.538832Z",
     "start_time": "2019-05-25T04:59:42.529813Z"
    },
    "scrolled": true
   },
   "outputs": [
    {
     "data": {
      "text/plain": [
       "(10, 1)"
      ]
     },
     "execution_count": 32,
     "metadata": {},
     "output_type": "execute_result"
    }
   ],
   "source": [
    "model.get_weights()[4].shape ## Weights of the output layer"
   ]
  },
  {
   "cell_type": "code",
   "execution_count": 33,
   "metadata": {
    "ExecuteTime": {
     "end_time": "2019-05-25T04:59:50.585003Z",
     "start_time": "2019-05-25T04:59:50.575984Z"
    }
   },
   "outputs": [
    {
     "data": {
      "text/plain": [
       "(1,)"
      ]
     },
     "execution_count": 33,
     "metadata": {},
     "output_type": "execute_result"
    }
   ],
   "source": [
    "model.get_weights()[5].shape ## Bias of the output layer"
   ]
  }
 ],
 "metadata": {
  "hide_input": false,
  "kernelspec": {
   "display_name": "Python 3",
   "language": "python",
   "name": "python3"
  },
  "language_info": {
   "codemirror_mode": {
    "name": "ipython",
    "version": 3
   },
   "file_extension": ".py",
   "mimetype": "text/x-python",
   "name": "python",
   "nbconvert_exporter": "python",
   "pygments_lexer": "ipython3",
   "version": "3.6.5"
  },
  "varInspector": {
   "cols": {
    "lenName": 16,
    "lenType": 16,
    "lenVar": 40
   },
   "kernels_config": {
    "python": {
     "delete_cmd_postfix": "",
     "delete_cmd_prefix": "del ",
     "library": "var_list.py",
     "varRefreshCmd": "print(var_dic_list())"
    },
    "r": {
     "delete_cmd_postfix": ") ",
     "delete_cmd_prefix": "rm(",
     "library": "var_list.r",
     "varRefreshCmd": "cat(var_dic_list()) "
    }
   },
   "types_to_exclude": [
    "module",
    "function",
    "builtin_function_or_method",
    "instance",
    "_Feature"
   ],
   "window_display": false
  }
 },
 "nbformat": 4,
 "nbformat_minor": 2
}
